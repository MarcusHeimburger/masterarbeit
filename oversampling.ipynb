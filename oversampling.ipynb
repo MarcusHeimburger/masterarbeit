{
 "cells": [
  {
   "cell_type": "code",
   "execution_count": 14,
   "metadata": {
    "collapsed": true
   },
   "outputs": [],
   "source": [
    "import torch\n",
    "from torch_geometric.data import Data"
   ]
  },
  {
   "cell_type": "code",
   "execution_count": 15,
   "outputs": [],
   "source": [
    "data = torch.load(\"Graph/usu_graph.pth\")"
   ],
   "metadata": {
    "collapsed": false
   }
  },
  {
   "cell_type": "code",
   "execution_count": 16,
   "outputs": [],
   "source": [
    "# Klasse 1 ist unterrepräsentiert\n",
    "class_0_indices = torch.where(data.y == 0)[0]\n",
    "class_1_indices = torch.where(data.y == 1)[0]\n",
    "\n",
    "# Erzeugen synthetischer Datenpunkte für Klasse 1\n",
    "num_synthetic_samples = len(class_0_indices) - len(class_1_indices)\n",
    "\n",
    "# Schritt 1: Wähle zufällig einige Knoten aus der unterrepräsentierten Klasse\n",
    "synthetic_indices = torch.randperm(len(class_1_indices))[:num_synthetic_samples]\n",
    "\n",
    "# Schritt 2: Finde die Nachbarn für ausgewählte Knoten\n",
    "neighbor_indices = []\n",
    "for idx in synthetic_indices:\n",
    "    neighbors = data.edge_index[1, data.edge_index[0] == idx]\n",
    "    neighbor_indices.extend(neighbors.tolist())\n",
    "\n",
    "# Schritt 3: Erstelle synthetische Datenpunkte basierend auf den Nachbarn\n",
    "synthetic_data_points = []\n",
    "for idx in synthetic_indices:\n",
    "    neighbors = data.edge_index[1, data.edge_index[0] == idx]\n",
    "    neighbor_features = data.x[neighbors]\n",
    "    synthetic_point = torch.mean(neighbor_features, dim=0)  # Beispiel: Durchschnittliche Merkmale der Nachbarn\n",
    "    synthetic_data_points.append(synthetic_point)\n",
    "\n",
    "# Schritt 4: Integriere synthetische Daten in das Data-Objekt\n",
    "synthetic_data = Data(\n",
    "    x=torch.stack(synthetic_data_points),  # Features der synthetischen Daten\n",
    "    edge_index=data.edge_index,       # Die Kantenstruktur bleibt erhalten\n",
    "    y=torch.ones(len(synthetic_data_points), dtype=torch.long),  # Klasse 1\n",
    "    train_mask=torch.ones(len(synthetic_data_points), dtype=torch.bool),  # Trainingsmasken für synthetische Daten\n",
    "    val_mask=torch.zeros(len(synthetic_data_points), dtype=torch.bool),    # Validierungsmasken\n",
    "    test_mask=torch.zeros(len(synthetic_data_points), dtype=torch.bool)    # Testmasken\n",
    ")\n"
   ],
   "metadata": {
    "collapsed": false
   }
  },
  {
   "cell_type": "code",
   "execution_count": 17,
   "outputs": [
    {
     "data": {
      "text/plain": "Data(x=[813, 25], edge_index=[2, 7132958], y=[813], train_mask=[813], val_mask=[813], test_mask=[813])"
     },
     "execution_count": 17,
     "metadata": {},
     "output_type": "execute_result"
    }
   ],
   "source": [
    "synthetic_data"
   ],
   "metadata": {
    "collapsed": false
   }
  },
  {
   "cell_type": "code",
   "execution_count": 18,
   "outputs": [],
   "source": [
    "# Zusammenfügen des alten Datensatzes mit neuen Synthetischem Datensatz\n",
    "data.x = torch.cat([data.x, synthetic_data.x], dim=0)\n",
    "data.y = torch.cat([data.y, synthetic_data.y], dim=0)\n",
    "data.train_mask = torch.cat([data.train_mask, synthetic_data.train_mask], dim=0)\n",
    "data.val_mask = torch.cat([data.val_mask, synthetic_data.val_mask], dim=0)\n",
    "data.test_mask = torch.cat([data.test_mask, synthetic_data.test_mask], dim=0)"
   ],
   "metadata": {
    "collapsed": false
   }
  },
  {
   "cell_type": "code",
   "execution_count": 19,
   "outputs": [],
   "source": [
    "torch.save(data, \"Graph/syntetic_data.pth\")"
   ],
   "metadata": {
    "collapsed": false
   }
  }
 ],
 "metadata": {
  "kernelspec": {
   "display_name": "Python 3",
   "language": "python",
   "name": "python3"
  },
  "language_info": {
   "codemirror_mode": {
    "name": "ipython",
    "version": 2
   },
   "file_extension": ".py",
   "mimetype": "text/x-python",
   "name": "python",
   "nbconvert_exporter": "python",
   "pygments_lexer": "ipython2",
   "version": "2.7.6"
  }
 },
 "nbformat": 4,
 "nbformat_minor": 0
}
