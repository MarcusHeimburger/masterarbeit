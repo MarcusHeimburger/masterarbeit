{
 "cells": [
  {
   "cell_type": "code",
   "execution_count": 1,
   "metadata": {
    "collapsed": true
   },
   "outputs": [
    {
     "name": "stdout",
     "output_type": "stream",
     "text": [
      "Collecting torch\n",
      "  Using cached torch-2.0.1-cp38-cp38-win_amd64.whl (172.4 MB)\n",
      "Collecting torchvision\n",
      "  Downloading torchvision-0.15.2-cp38-cp38-win_amd64.whl (1.2 MB)\n",
      "Collecting torchaudio\n",
      "  Downloading torchaudio-2.0.2-cp38-cp38-win_amd64.whl (2.1 MB)\n",
      "Collecting sympy\n",
      "  Using cached sympy-1.12-py3-none-any.whl (5.7 MB)\n",
      "Requirement already satisfied: typing-extensions in d:\\masterarbeit\\venv\\lib\\site-packages (from torch) (4.8.0)\n",
      "Requirement already satisfied: jinja2 in d:\\masterarbeit\\venv\\lib\\site-packages (from torch) (3.1.2)\n",
      "Collecting networkx\n",
      "  Using cached networkx-3.1-py3-none-any.whl (2.1 MB)\n",
      "Collecting filelock\n",
      "  Using cached filelock-3.12.4-py3-none-any.whl (11 kB)\n",
      "Requirement already satisfied: requests in d:\\masterarbeit\\venv\\lib\\site-packages (from torchvision) (2.31.0)\n",
      "Collecting pillow!=8.3.*,>=5.3.0\n",
      "  Downloading Pillow-10.0.1-cp38-cp38-win_amd64.whl (2.5 MB)\n",
      "Collecting numpy\n",
      "  Downloading numpy-1.24.4-cp38-cp38-win_amd64.whl (14.9 MB)\n",
      "Requirement already satisfied: MarkupSafe>=2.0 in d:\\masterarbeit\\venv\\lib\\site-packages (from jinja2->torch) (2.1.3)\n",
      "Requirement already satisfied: charset-normalizer<4,>=2 in d:\\masterarbeit\\venv\\lib\\site-packages (from requests->torchvision) (3.3.0)\n",
      "Requirement already satisfied: certifi>=2017.4.17 in d:\\masterarbeit\\venv\\lib\\site-packages (from requests->torchvision) (2023.7.22)\n",
      "Requirement already satisfied: idna<4,>=2.5 in d:\\masterarbeit\\venv\\lib\\site-packages (from requests->torchvision) (3.4)\n",
      "Requirement already satisfied: urllib3<3,>=1.21.1 in d:\\masterarbeit\\venv\\lib\\site-packages (from requests->torchvision) (2.0.5)\n",
      "Collecting mpmath>=0.19\n",
      "  Using cached mpmath-1.3.0-py3-none-any.whl (536 kB)\n",
      "Installing collected packages: mpmath, sympy, networkx, filelock, torch, pillow, numpy, torchvision, torchaudio\n",
      "Successfully installed filelock-3.12.4 mpmath-1.3.0 networkx-3.1 numpy-1.24.4 pillow-10.0.1 sympy-1.12 torch-2.0.1 torchaudio-2.0.2 torchvision-0.15.2\n"
     ]
    },
    {
     "name": "stderr",
     "output_type": "stream",
     "text": [
      "WARNING: You are using pip version 21.3.1; however, version 23.2.1 is available.\n",
      "You should consider upgrading via the 'D:\\masterarbeit\\venv\\Scripts\\python.exe -m pip install --upgrade pip' command.\n",
      "WARNING: You are using pip version 21.3.1; however, version 23.2.1 is available.\n",
      "You should consider upgrading via the 'D:\\masterarbeit\\venv\\Scripts\\python.exe -m pip install --upgrade pip' command.\n"
     ]
    },
    {
     "name": "stdout",
     "output_type": "stream",
     "text": [
      "Collecting matplotlib\n",
      "  Downloading matplotlib-3.7.3-cp38-cp38-win_amd64.whl (7.5 MB)\n",
      "Requirement already satisfied: numpy<2,>=1.20 in d:\\masterarbeit\\venv\\lib\\site-packages (from matplotlib) (1.24.4)\n",
      "Requirement already satisfied: pyparsing>=2.3.1 in d:\\masterarbeit\\venv\\lib\\site-packages (from matplotlib) (3.1.1)\n",
      "Collecting fonttools>=4.22.0\n",
      "  Downloading fonttools-4.43.0-cp38-cp38-win_amd64.whl (1.5 MB)\n",
      "Requirement already satisfied: pillow>=6.2.0 in d:\\masterarbeit\\venv\\lib\\site-packages (from matplotlib) (10.0.1)\n",
      "Requirement already satisfied: python-dateutil>=2.7 in d:\\masterarbeit\\venv\\lib\\site-packages (from matplotlib) (2.8.2)\n",
      "Requirement already satisfied: packaging>=20.0 in d:\\masterarbeit\\venv\\lib\\site-packages (from matplotlib) (23.1)\n",
      "Requirement already satisfied: importlib-resources>=3.2.0 in d:\\masterarbeit\\venv\\lib\\site-packages (from matplotlib) (6.1.0)\n",
      "Collecting kiwisolver>=1.0.1\n",
      "  Downloading kiwisolver-1.4.5-cp38-cp38-win_amd64.whl (56 kB)\n",
      "Collecting cycler>=0.10\n",
      "  Downloading cycler-0.12.0-py3-none-any.whl (8.2 kB)\n",
      "Collecting contourpy>=1.0.1\n",
      "  Downloading contourpy-1.1.1-cp38-cp38-win_amd64.whl (477 kB)\n",
      "Requirement already satisfied: zipp>=3.1.0 in d:\\masterarbeit\\venv\\lib\\site-packages (from importlib-resources>=3.2.0->matplotlib) (3.17.0)\n",
      "Requirement already satisfied: six>=1.5 in d:\\masterarbeit\\venv\\lib\\site-packages (from python-dateutil>=2.7->matplotlib) (1.16.0)\n",
      "Installing collected packages: kiwisolver, fonttools, cycler, contourpy, matplotlib\n",
      "Successfully installed contourpy-1.1.1 cycler-0.12.0 fonttools-4.43.0 kiwisolver-1.4.5 matplotlib-3.7.3\n"
     ]
    },
    {
     "name": "stderr",
     "output_type": "stream",
     "text": [
      "WARNING: You are using pip version 21.3.1; however, version 23.2.1 is available.\n",
      "You should consider upgrading via the 'D:\\masterarbeit\\venv\\Scripts\\python.exe -m pip install --upgrade pip' command.\n"
     ]
    },
    {
     "name": "stdout",
     "output_type": "stream",
     "text": [
      "Requirement already satisfied: scipy in d:\\masterarbeit\\venv\\lib\\site-packages (1.10.1)\n",
      "Requirement already satisfied: numpy<1.27.0,>=1.19.5 in d:\\masterarbeit\\venv\\lib\\site-packages (from scipy) (1.24.4)\n"
     ]
    },
    {
     "name": "stderr",
     "output_type": "stream",
     "text": [
      "WARNING: You are using pip version 21.3.1; however, version 23.2.1 is available.\n",
      "You should consider upgrading via the 'D:\\masterarbeit\\venv\\Scripts\\python.exe -m pip install --upgrade pip' command.\n"
     ]
    },
    {
     "name": "stdout",
     "output_type": "stream",
     "text": [
      "Collecting dgl\n",
      "  Downloading dgl-1.1.2-cp38-cp38-win_amd64.whl (3.4 MB)\n",
      "Requirement already satisfied: torch in d:\\masterarbeit\\venv\\lib\\site-packages (2.0.1)\n",
      "Requirement already satisfied: requests>=2.19.0 in d:\\masterarbeit\\venv\\lib\\site-packages (from dgl) (2.31.0)\n",
      "Requirement already satisfied: scipy>=1.1.0 in d:\\masterarbeit\\venv\\lib\\site-packages (from dgl) (1.10.1)\n",
      "Requirement already satisfied: networkx>=2.1 in d:\\masterarbeit\\venv\\lib\\site-packages (from dgl) (3.1)\n",
      "Requirement already satisfied: tqdm in d:\\masterarbeit\\venv\\lib\\site-packages (from dgl) (4.66.1)\n",
      "Requirement already satisfied: psutil>=5.8.0 in d:\\masterarbeit\\venv\\lib\\site-packages (from dgl) (5.9.5)\n",
      "Requirement already satisfied: numpy>=1.14.0 in d:\\masterarbeit\\venv\\lib\\site-packages (from dgl) (1.24.4)\n",
      "Requirement already satisfied: jinja2 in d:\\masterarbeit\\venv\\lib\\site-packages (from torch) (3.1.2)\n",
      "Requirement already satisfied: typing-extensions in d:\\masterarbeit\\venv\\lib\\site-packages (from torch) (4.8.0)\n",
      "Requirement already satisfied: sympy in d:\\masterarbeit\\venv\\lib\\site-packages (from torch) (1.12)\n",
      "Requirement already satisfied: filelock in d:\\masterarbeit\\venv\\lib\\site-packages (from torch) (3.12.4)\n",
      "Requirement already satisfied: idna<4,>=2.5 in d:\\masterarbeit\\venv\\lib\\site-packages (from requests>=2.19.0->dgl) (3.4)\n",
      "Requirement already satisfied: certifi>=2017.4.17 in d:\\masterarbeit\\venv\\lib\\site-packages (from requests>=2.19.0->dgl) (2023.7.22)\n",
      "Requirement already satisfied: charset-normalizer<4,>=2 in d:\\masterarbeit\\venv\\lib\\site-packages (from requests>=2.19.0->dgl) (3.3.0)\n",
      "Requirement already satisfied: urllib3<3,>=1.21.1 in d:\\masterarbeit\\venv\\lib\\site-packages (from requests>=2.19.0->dgl) (2.0.5)\n",
      "Requirement already satisfied: MarkupSafe>=2.0 in d:\\masterarbeit\\venv\\lib\\site-packages (from jinja2->torch) (2.1.3)\n",
      "Requirement already satisfied: mpmath>=0.19 in d:\\masterarbeit\\venv\\lib\\site-packages (from sympy->torch) (1.3.0)\n",
      "Requirement already satisfied: colorama in d:\\masterarbeit\\venv\\lib\\site-packages (from tqdm->dgl) (0.4.6)\n",
      "Installing collected packages: dgl\n",
      "Successfully installed dgl-1.1.2\n"
     ]
    },
    {
     "name": "stderr",
     "output_type": "stream",
     "text": [
      "WARNING: You are using pip version 21.3.1; however, version 23.2.1 is available.\n",
      "You should consider upgrading via the 'D:\\masterarbeit\\venv\\Scripts\\python.exe -m pip install --upgrade pip' command.\n"
     ]
    },
    {
     "name": "stdout",
     "output_type": "stream",
     "text": [
      "Collecting pandas\n",
      "  Downloading pandas-2.0.3-cp38-cp38-win_amd64.whl (10.8 MB)\n",
      "Requirement already satisfied: pytz>=2020.1 in d:\\masterarbeit\\venv\\lib\\site-packages (from pandas) (2023.3.post1)\n",
      "Collecting tzdata>=2022.1\n",
      "  Using cached tzdata-2023.3-py2.py3-none-any.whl (341 kB)\n",
      "Requirement already satisfied: numpy>=1.20.3 in d:\\masterarbeit\\venv\\lib\\site-packages (from pandas) (1.24.4)\n",
      "Requirement already satisfied: python-dateutil>=2.8.2 in d:\\masterarbeit\\venv\\lib\\site-packages (from pandas) (2.8.2)\n",
      "Requirement already satisfied: six>=1.5 in d:\\masterarbeit\\venv\\lib\\site-packages (from python-dateutil>=2.8.2->pandas) (1.16.0)\n",
      "Installing collected packages: tzdata, pandas\n",
      "Successfully installed pandas-2.0.3 tzdata-2023.3\n"
     ]
    },
    {
     "name": "stderr",
     "output_type": "stream",
     "text": [
      "WARNING: You are using pip version 21.3.1; however, version 23.2.1 is available.\n",
      "You should consider upgrading via the 'D:\\masterarbeit\\venv\\Scripts\\python.exe -m pip install --upgrade pip' command.\n"
     ]
    },
    {
     "name": "stdout",
     "output_type": "stream",
     "text": [
      "Collecting imbalanced-learn\n",
      "  Using cached imbalanced_learn-0.11.0-py3-none-any.whl (235 kB)\n",
      "Requirement already satisfied: scikit-learn>=1.0.2 in d:\\masterarbeit\\venv\\lib\\site-packages (from imbalanced-learn) (1.3.1)\n",
      "Requirement already satisfied: numpy>=1.17.3 in d:\\masterarbeit\\venv\\lib\\site-packages (from imbalanced-learn) (1.24.4)\n",
      "Requirement already satisfied: joblib>=1.1.1 in d:\\masterarbeit\\venv\\lib\\site-packages (from imbalanced-learn) (1.3.2)\n",
      "Requirement already satisfied: scipy>=1.5.0 in d:\\masterarbeit\\venv\\lib\\site-packages (from imbalanced-learn) (1.10.1)\n",
      "Requirement already satisfied: threadpoolctl>=2.0.0 in d:\\masterarbeit\\venv\\lib\\site-packages (from imbalanced-learn) (3.2.0)\n",
      "Installing collected packages: imbalanced-learn\n",
      "Successfully installed imbalanced-learn-0.11.0\n"
     ]
    },
    {
     "name": "stderr",
     "output_type": "stream",
     "text": [
      "WARNING: You are using pip version 21.3.1; however, version 23.2.1 is available.\n",
      "You should consider upgrading via the 'D:\\masterarbeit\\venv\\Scripts\\python.exe -m pip install --upgrade pip' command.\n"
     ]
    }
   ],
   "source": [
    "# Installs\n",
    "!pip3 install torch torchvision torchaudio\n",
    "!pip install -q git+https://github.com/pyg-team/pytorch_geometric.git\n",
    "!pip install -U matplotlib\n",
    "!pip install scipy\n",
    "!pip install dgl torch\n",
    "!pip install pandas\n",
    "!pip install imbalanced-learn"
   ]
  },
  {
   "cell_type": "code",
   "execution_count": null,
   "outputs": [],
   "source": [],
   "metadata": {
    "collapsed": false
   }
  }
 ],
 "metadata": {
  "kernelspec": {
   "display_name": "Python 3",
   "language": "python",
   "name": "python3"
  },
  "language_info": {
   "codemirror_mode": {
    "name": "ipython",
    "version": 2
   },
   "file_extension": ".py",
   "mimetype": "text/x-python",
   "name": "python",
   "nbconvert_exporter": "python",
   "pygments_lexer": "ipython2",
   "version": "2.7.6"
  }
 },
 "nbformat": 4,
 "nbformat_minor": 0
}
